{
 "cells": [
  {
   "cell_type": "code",
   "execution_count": 8,
   "id": "9045255f-4205-45ec-a763-de46dfc9a238",
   "metadata": {},
   "outputs": [
    {
     "name": "stdout",
     "output_type": "stream",
     "text": [
      "X_train:\n",
      "   Level\n",
      "0      1\n",
      "7      8\n",
      "2      3\n",
      "9     10\n",
      "4      5\n",
      "3      4\n",
      "6      7\n",
      "\n",
      "X_test:\n",
      "   Level\n",
      "8      9\n",
      "1      2\n",
      "5      6\n",
      "\n",
      "y_train:\n",
      "0      45000\n",
      "7     300000\n",
      "2      60000\n",
      "9    1000000\n",
      "4     110000\n",
      "3      80000\n",
      "6     200000\n",
      "Name: Salary, dtype: int64\n",
      "\n",
      "y_test:\n",
      "8    500000\n",
      "1     50000\n",
      "5    150000\n",
      "Name: Salary, dtype: int64\n",
      "R-squared: 0.6387183859096339\n"
     ]
    }
   ],
   "source": [
    "import pandas as pd\n",
    "import matplotlib.pyplot as plt\n",
    "from sklearn.model_selection import train_test_split\n",
    "from sklearn.linear_model import LinearRegression\n",
    "from sklearn.metrics import r2_score\n",
    "\n",
    "data=pd.read_csv('/content/Position_Salaries.csv')\n",
    "\n",
    "x = data[['Level']]\n",
    "y = data['Salary']\n",
    "\n",
    "x_train, X_test, y_train, y_test = train_test_split(X, y, test_size=0.3, random_state=42)\n",
    "\n",
    "print(\"X_train:\")\n",
    "print(x_train)\n",
    "print(\"\\nX_test:\")\n",
    "print(x_test)\n",
    "print(\"\\ny_train:\")\n",
    "print(y_train)\n",
    "print(\"\\ny_test:\")\n",
    "print(y_test)\n",
    "\n",
    "model = LinearRegression()\n",
    "model.fit(x_train, y_train)\n",
    "\n",
    "y_pred = model.predict(x_train)\n",
    "\n",
    "r2 = r2_score(y_train, y_pred)\n",
    "print(\"R-squared:\", r2)\n",
    "\n",
    "plt.scatter(x_train,y_train)\n",
    "plt.plot(x_train,y_pred , color=\"green\")"
   ]
  },
  {
   "cell_type": "code",
   "execution_count": null,
   "id": "409f1ec3-6d44-41b0-8d10-67cc589ea1a6",
   "metadata": {},
   "outputs": [],
   "source": []
  }
 ],
 "metadata": {
  "kernelspec": {
   "display_name": "Python 3 (ipykernel)",
   "language": "python",
   "name": "python3"
  },
  "language_info": {
   "codemirror_mode": {
    "name": "ipython",
    "version": 3
   },
   "file_extension": ".py",
   "mimetype": "text/x-python",
   "name": "python",
   "nbconvert_exporter": "python",
   "pygments_lexer": "ipython3",
   "version": "3.12.0"
  }
 },
 "nbformat": 4,
 "nbformat_minor": 5
}
